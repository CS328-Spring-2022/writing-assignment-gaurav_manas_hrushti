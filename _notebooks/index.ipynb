{
 "cells": [
  {
   "cell_type": "markdown",
   "metadata": {},
   "source": [
    "<h1><center>Food Trends Analysis in India</center></h1>\n",
    "<h4><center>\n",
    "<a style=\"text-decoration:none\" href=\"https://github.com/GauravViramgami/\">Gaurav Viramgami</a>, IIT Gandhinagar, <a style=\"text-decoration:none\" href=\"mailto:viramgami.g@iitgn.ac.in\">viramgami.g@iitgn.ac.in</a>\n",
    "<br><br>\n",
    "<a style=\"text-decoration:none\" href=\"https://github.com/Hrushti/\">Hrushti Naik</a>, IIT Gandhinagar, <a style=\"text-decoration:none\" href=\"mailto:hrushti.n@iitgn.ac.in\">hrushti.n@iitgn.ac.in</a>\n",
    "<br><br>\n",
    "<a style=\"text-decoration:none\" href=\"https://github.com/ManasMulpuri/\">Manas Mulpuri</a>, IIT Gandhinagar, <a style=\"text-decoration:none\" href=\"mailto:mulpuri.m@iitgn.ac.in\">mulpuri.m@iitgn.ac.in</a>\n",
    "</center></h4>"
   ]
  },
  {
   "cell_type": "markdown",
   "metadata": {},
   "source": [
    "## Introduction"
   ]
  },
  {
   "cell_type": "markdown",
   "metadata": {},
   "source": [
    "India is known for its diversity. Be it in cultures, climates, some more terms, or even <b>food</b>. A plethora of dishes are made to satisfy the hunger of 138 crore stomachs. Some of them are seasonal, some come and go at festivals, some of them are made from imported materials, some of them are exported, some are eaten by only a particular community, some are forbidden in some religions, and what we eat is just the tip of the iceberg compared to what the whole of India eats."
   ]
  },
  {
   "cell_type": "markdown",
   "metadata": {},
   "source": [
    "We decided to analyse the food trends in India. The data on which we built our analysis is not food consumption data; instead, it represents the popularity of a food item. Using <a href=\"https://trends.google.com/trends/explore?cat=71&date=2019-01-01%202021-12-31&geo=IN\">Google Trends</a>, we have the search frequency of multiple dishes and raw materials over the years of 2019 to 2021. Within an error margin, food search data is closely similar to food consumption data. Google Trends also gives the search frequency distributed over all states of India."
   ]
  },
  {
   "cell_type": "markdown",
   "metadata": {},
   "source": [
    "Our data needed quite a bit of pre-processing. Apparently, Google Trends only gives relative data, not absolute, which meant that all the food items' popularity was capped at 100. However, a very neat feature is that we're allowed to compare up to 5 items together. So we agreed on a 'baseline term', which will be searched along with individual food items. We can then download the csv files of the data, which has the (relative) amount of searches per week in our time range. These values are numerical, and we scaled each of them accordingly, so that the baseline term has the same values throughout."
   ]
  },
  {
   "cell_type": "code",
   "execution_count": null,
   "metadata": {},
   "outputs": [],
   "source": [
    "#Preprocessed data"
   ]
  },
  {
   "cell_type": "markdown",
   "metadata": {},
   "source": [
    "Here's what our data for mango looks like:"
   ]
  },
  {
   "cell_type": "code",
   "execution_count": 1,
   "metadata": {},
   "outputs": [],
   "source": [
    "# Data Mango"
   ]
  },
  {
   "cell_type": "markdown",
   "metadata": {},
   "source": [
    "And here's what it looks like on a timeline:"
   ]
  },
  {
   "cell_type": "code",
   "execution_count": 2,
   "metadata": {},
   "outputs": [],
   "source": [
    "# Mango timeline"
   ]
  },
  {
   "cell_type": "markdown",
   "metadata": {},
   "source": [
    "From this graph, we observe that the interest in mangoes is significantly higher in the months of May-June, which is the peak mango season."
   ]
  },
  {
   "cell_type": "markdown",
   "metadata": {},
   "source": [
    "## Notable Examples\n",
    "\n",
    "This data also shows if the food item was popular for a reason other than seasons and festivals. Some notable examples are shown below:\n"
   ]
  },
  {
   "cell_type": "markdown",
   "metadata": {},
   "source": [
    "### Dragon Fruit, January 2021"
   ]
  },
  {
   "cell_type": "code",
   "execution_count": 3,
   "metadata": {},
   "outputs": [],
   "source": [
    "# Timeline"
   ]
  },
  {
   "cell_type": "markdown",
   "metadata": {},
   "source": [
    "Search data of dragon fruit in India shows a distinctive peak in January 2021. This peak was due to the renaming of dragon fruit to 'kamalam' by the Gujarat Government. The distinctive shape and colour of the dragon fruit makes it look similar to a lotus, which is called kamal in Hindi. This was statewide news, and we're guessing that this made people search for dragon fruit. (<a href=\"https://krishijagran.com/blog/dragon-fruit-a-boon-for-farmers-in-kachchh/#:~:text=Dragon%20fruit%20(renamed%20kamalam%20by,%2C%20Telangana%2C%20and%20Tamil%20Nadu.\">source</a>)"
   ]
  },
  {
   "cell_type": "markdown",
   "metadata": {},
   "source": [
    "### Chocolate, Feb 14"
   ]
  },
  {
   "cell_type": "code",
   "execution_count": 4,
   "metadata": {},
   "outputs": [],
   "source": [
    "# Timeline"
   ]
  },
  {
   "cell_type": "markdown",
   "metadata": {},
   "source": [
    "This one is a very cute example of how festivals also have an impact. Chocolate peaks exclusively in the second week of February across all years. This is when Valentine's Day is celebrated, and is the most contributing factor to chocolate popularity in February."
   ]
  },
  {
   "cell_type": "markdown",
   "metadata": {},
   "source": [
    "### Dalgona Candy, September 2021"
   ]
  },
  {
   "cell_type": "code",
   "execution_count": 5,
   "metadata": {},
   "outputs": [],
   "source": [
    "# Timeline"
   ]
  },
  {
   "cell_type": "markdown",
   "metadata": {},
   "source": [
    "Another interesting example is where we can see a spike in the searches for Dalgona Candy during September 2021 when the Korean drama series Squid Game was released. One of the challenges in it included cutting the Dalgona Candy without breaking it in a fixed time. So, it became famous after the series was a success."
   ]
  },
  {
   "cell_type": "markdown",
   "metadata": {},
   "source": [
    "### Undhiyu, January 14"
   ]
  },
  {
   "cell_type": "code",
   "execution_count": 6,
   "metadata": {},
   "outputs": [],
   "source": [
    "# Timeline"
   ]
  },
  {
   "cell_type": "markdown",
   "metadata": {},
   "source": [
    "Undhiyu is a seasonal Gujrathi dish made in the winter. It is made of many winter vegetables and is being cooked in almost every household in Gujarat during Makarsankranti (January 14) which resembles the peaks in the graph."
   ]
  },
  {
   "cell_type": "markdown",
   "metadata": {},
   "source": [
    "### Haleem, Ramadan Month"
   ]
  },
  {
   "cell_type": "code",
   "execution_count": 7,
   "metadata": {},
   "outputs": [],
   "source": [
    "# Timeline"
   ]
  },
  {
   "cell_type": "markdown",
   "metadata": {},
   "source": [
    "Haleem is a dish that is mainly prepared during the Ramadan month of the Muslim Hijri calendar in Hyderabad, Telangana in India. It has a significant cultural history among Muslims and is very famous in the Middle East, and the Indian subcontinent. As we can see in the plot above the spikes align with the Ramadan months of those years. Haleem originated from Harees which was introduced to the Hyderabad Nizam’s army by Arab soldiers, which over time changed to Haleem. Haleem from Hyderabad is transported all over the country."
   ]
  },
  {
   "cell_type": "markdown",
   "metadata": {},
   "source": [
    "## The Effect of COVID"
   ]
  },
  {
   "cell_type": "markdown",
   "metadata": {},
   "source": [
    "A search term not completely unrelated to food, 'homemade' had a ginormous peak in April-May of 2020, when the first lockdown  due to COVID was initiated:"
   ]
  },
  {
   "cell_type": "code",
   "execution_count": 8,
   "metadata": {},
   "outputs": [],
   "source": [
    "# Timeline"
   ]
  },
  {
   "cell_type": "markdown",
   "metadata": {},
   "source": [
    "This corresponds, with much likelihood, to the fact that people were now looking for recipes of their favourite foods that they can make at home, since restaurants and hotels had to be closed down."
   ]
  },
  {
   "cell_type": "code",
   "execution_count": 9,
   "metadata": {},
   "outputs": [],
   "source": [
    "# Graph"
   ]
  },
  {
   "cell_type": "markdown",
   "metadata": {},
   "source": [
    "In the first 1-2 months of the COVID outbreak in India, when there was a lockdown all over the country there was a spike in the number of searches for the recipes of many food items which aren’t typically made at home. Food items like momos, jalebi, dhokla, panipuri, samosa, and cake were not available outside and people stuck in their homes were interested in making them to satisfy their taste buds. As we can see in the plot above there is a spike in all of the food items in April 2020. Then as local shops opened and people became negligent in the later COVID waves we can infer that people didn’t need to search for recipes online."
   ]
  },
  {
   "cell_type": "markdown",
   "metadata": {},
   "source": [
    "Similarly, we figured, with a worldwide pandemic affecting our daily lives, it must have also affected the food in our daily lives. With this data, we plan to also gain some insight as to how COVID affected food searches. Will it be more than usual or less? And why?\n",
    "We decided to make a slope chart of all the items in our dataset, grouped by categories."
   ]
  },
  {
   "cell_type": "markdown",
   "metadata": {},
   "source": [
    "[![Repo](https://img.shields.io/badge/GitHub-<repo_name>-brightgreen)](https://github.com/<repo_user>/<repo_name>)"
   ]
  },
  {
   "cell_type": "markdown",
   "metadata": {},
   "source": [
    "Introduction\n",
    "- General Introduction\n",
    "- Examples (Onion, Dragon Fruit, Coffee etc.) with few charts and images\n",
    "- About Dataset and preprocessing (Baseline food item)"
   ]
  },
  {
   "cell_type": "markdown",
   "metadata": {},
   "source": [
    "Data Visualizations + Conclusions\n",
    "- 3 Year search data for 2-3 items per category with explanations for abnormal data (with slider/dropdown for other items) - circular charts\n",
    "- Covid effect - slope charts - all items\n",
    "- Region wise (if words km pde)\n",
    "- Concluding Paragraph"
   ]
  },
  {
   "cell_type": "markdown",
   "metadata": {},
   "source": []
  }
 ],
 "metadata": {
  "interpreter": {
   "hash": "63fd5069d213b44bf678585dea6b12cceca9941eaf7f819626cde1f2670de90d"
  },
  "kernelspec": {
   "display_name": "Python 3.9.6 64-bit",
   "language": "python",
   "name": "python3"
  },
  "language_info": {
   "codemirror_mode": {
    "name": "ipython",
    "version": 3
   },
   "file_extension": ".py",
   "mimetype": "text/x-python",
   "name": "python",
   "nbconvert_exporter": "python",
   "pygments_lexer": "ipython3",
   "version": "3.9.6"
  },
  "orig_nbformat": 4
 },
 "nbformat": 4,
 "nbformat_minor": 2
}
