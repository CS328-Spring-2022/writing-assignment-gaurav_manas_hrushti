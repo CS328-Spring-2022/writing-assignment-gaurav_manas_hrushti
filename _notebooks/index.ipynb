{
 "cells": [
  {
   "cell_type": "markdown",
   "metadata": {},
   "source": [
    "<h1><center>Food Trends Analysis in India</center></h1>\n",
    "<h4><center>\n",
    "<a style=\"text-decoration:none\" href=\"https://github.com/GauravViramgami/\">Gaurav Viramgami</a>, IIT Gandhinagar, <a style=\"text-decoration:none\" href=\"mailto:viramgami.g@iitgn.ac.in\">viramgami.g@iitgn.ac.in</a>\n",
    "<br><br>\n",
    "<a style=\"text-decoration:none\" href=\"https://github.com/Hrushti/\">Hrushti Naik</a>, IIT Gandhinagar, <a style=\"text-decoration:none\" href=\"mailto:hrushti.n@iitgn.ac.in\">hrushti.n@iitgn.ac.in</a>\n",
    "<br><br>\n",
    "<a style=\"text-decoration:none\" href=\"https://github.com/ManasMulpuri/\">Manas Mulpuri</a>, IIT Gandhinagar, <a style=\"text-decoration:none\" href=\"mailto:mulpuri.m@iitgn.ac.in\">mulpuri.m@iitgn.ac.in</a>\n",
    "</center></h4>"
   ]
  },
  {
   "cell_type": "markdown",
   "metadata": {},
   "source": [
    "## Introduction"
   ]
  },
  {
   "cell_type": "markdown",
   "metadata": {},
   "source": [
    "India is known for its diversity. Be it in cultures, climates, languages, or even <b>food</b>. A plethora of dishes are made to satisfy the hunger of 138 crore stomachs. Some of them are seasonal, some come and go at festivals, some of them are made from imported materials, some of them are exported, some are eaten by only a particular community, some are forbidden in some religions, and what we eat is just the tip of the iceberg compared to what the whole of India eats."
   ]
  },
  {
   "cell_type": "markdown",
   "metadata": {},
   "source": [
    "We decided to analyse the food trends in India. The data on which we built our analysis is not food consumption data; instead, it represents the popularity of a food item. Using <a href=\"https://trends.google.com/trends/explore?cat=71&date=2019-01-01%202021-12-31&geo=IN\">Google Trends</a>, we have the search frequency of multiple dishes and raw materials over the years of 2019 to 2021. Within an error margin, food search data is closely similar to food consumption data. Google Trends also gives the search frequency distributed over all states of India."
   ]
  },
  {
   "cell_type": "markdown",
   "metadata": {},
   "source": [
    "Our data needed quite a bit of pre-processing. Apparently, Google Trends only gives relative data, not absolute, which meant that all the food items' popularity was capped at 100. However, a very neat feature is that we're allowed to compare up to 5 items together. So we agreed on a 'baseline term', which will be searched along with individual food items. We can then download the csv files of the data, which has the (relative) amount of searches per week in our time range. These values are numerical, and we scaled each of them accordingly, so that the baseline term has the same values throughout. The baseline term that we have used is 'Drinking water'."
   ]
  },
  {
   "cell_type": "code",
   "execution_count": 17,
   "metadata": {},
   "outputs": [],
   "source": [
    "# Importing Libraries\n",
    "\n",
    "import pandas as pd\n",
    "import numpy as np\n",
    "import matplotlib.pyplot as plt\n",
    "from matplotlib import rc\n",
    "from matplotlib.animation import FuncAnimation\n",
    "from matplotlib import animation\n",
    "import plotly.express as px\n",
    "import plotly.io as pio\n",
    "pio.renderers.default = 'notebook'\n",
    "\n",
    "rc('animation', html='jshtml')\n",
    "\n",
    "frn = 10 # Number of frames to process in the animation\n",
    "fps = 0.5 # Frames per second\n",
    "mywriter = animation.PillowWriter(fps=fps)"
   ]
  },
  {
   "cell_type": "markdown",
   "metadata": {},
   "source": [
    "Here's what our data for mango looks like:"
   ]
  },
  {
   "cell_type": "code",
   "execution_count": 29,
   "metadata": {},
   "outputs": [
    {
     "data": {
      "text/html": [
       "<div>\n",
       "<style scoped>\n",
       "    .dataframe tbody tr th:only-of-type {\n",
       "        vertical-align: middle;\n",
       "    }\n",
       "\n",
       "    .dataframe tbody tr th {\n",
       "        vertical-align: top;\n",
       "    }\n",
       "\n",
       "    .dataframe thead th {\n",
       "        text-align: right;\n",
       "    }\n",
       "</style>\n",
       "<table border=\"1\" class=\"dataframe\">\n",
       "  <thead>\n",
       "    <tr style=\"text-align: right;\">\n",
       "      <th></th>\n",
       "      <th>Week</th>\n",
       "      <th>mango: (India)</th>\n",
       "    </tr>\n",
       "  </thead>\n",
       "  <tbody>\n",
       "    <tr>\n",
       "      <th>0</th>\n",
       "      <td>2019-01-06</td>\n",
       "      <td>10</td>\n",
       "    </tr>\n",
       "    <tr>\n",
       "      <th>1</th>\n",
       "      <td>2019-01-13</td>\n",
       "      <td>10</td>\n",
       "    </tr>\n",
       "    <tr>\n",
       "      <th>2</th>\n",
       "      <td>2019-01-20</td>\n",
       "      <td>11</td>\n",
       "    </tr>\n",
       "    <tr>\n",
       "      <th>3</th>\n",
       "      <td>2019-01-27</td>\n",
       "      <td>10</td>\n",
       "    </tr>\n",
       "    <tr>\n",
       "      <th>4</th>\n",
       "      <td>2019-02-03</td>\n",
       "      <td>12</td>\n",
       "    </tr>\n",
       "    <tr>\n",
       "      <th>5</th>\n",
       "      <td>2019-02-10</td>\n",
       "      <td>12</td>\n",
       "    </tr>\n",
       "    <tr>\n",
       "      <th>6</th>\n",
       "      <td>2019-02-17</td>\n",
       "      <td>12</td>\n",
       "    </tr>\n",
       "    <tr>\n",
       "      <th>7</th>\n",
       "      <td>2019-02-24</td>\n",
       "      <td>11</td>\n",
       "    </tr>\n",
       "    <tr>\n",
       "      <th>8</th>\n",
       "      <td>2019-03-03</td>\n",
       "      <td>13</td>\n",
       "    </tr>\n",
       "    <tr>\n",
       "      <th>9</th>\n",
       "      <td>2019-03-10</td>\n",
       "      <td>14</td>\n",
       "    </tr>\n",
       "  </tbody>\n",
       "</table>\n",
       "</div>"
      ],
      "text/plain": [
       "         Week  mango: (India)\n",
       "0  2019-01-06              10\n",
       "1  2019-01-13              10\n",
       "2  2019-01-20              11\n",
       "3  2019-01-27              10\n",
       "4  2019-02-03              12\n",
       "5  2019-02-10              12\n",
       "6  2019-02-17              12\n",
       "7  2019-02-24              11\n",
       "8  2019-03-03              13\n",
       "9  2019-03-10              14"
      ]
     },
     "execution_count": 29,
     "metadata": {},
     "output_type": "execute_result"
    }
   ],
   "source": [
    "# Data Mango\n",
    "mango_df = pd.read_csv(\"./data/mango.csv\")\n",
    "mango_df.head(10)"
   ]
  },
  {
   "cell_type": "markdown",
   "metadata": {},
   "source": [
    "And here's what it looks like on a timeline:"
   ]
  },
  {
   "cell_type": "code",
   "execution_count": 58,
   "metadata": {},
   "outputs": [
    {
     "data": {
      "text/html": [
       "<div>                            <div id=\"75995140-61db-4a9f-9d6e-e82432a54446\" class=\"plotly-graph-div\" style=\"height:400px; width:100%;\"></div>            <script type=\"text/javascript\">                require([\"plotly\"], function(Plotly) {                    window.PLOTLYENV=window.PLOTLYENV || {};                                    if (document.getElementById(\"75995140-61db-4a9f-9d6e-e82432a54446\")) {                    Plotly.newPlot(                        \"75995140-61db-4a9f-9d6e-e82432a54446\",                        [{\"hovertemplate\":\"Timeline=%{x}<br>Interest Over Time=%{y}<extra></extra>\",\"legendgroup\":\"\",\"line\":{\"color\":\"#636efa\",\"dash\":\"solid\"},\"marker\":{\"symbol\":\"circle\"},\"mode\":\"lines\",\"name\":\"\",\"orientation\":\"v\",\"showlegend\":false,\"x\":[\"2019-01-06\",\"2019-01-13\",\"2019-01-20\",\"2019-01-27\",\"2019-02-03\",\"2019-02-10\",\"2019-02-17\",\"2019-02-24\",\"2019-03-03\",\"2019-03-10\",\"2019-03-17\",\"2019-03-24\",\"2019-03-31\",\"2019-04-07\",\"2019-04-14\",\"2019-04-21\",\"2019-04-28\",\"2019-05-05\",\"2019-05-12\",\"2019-05-19\",\"2019-05-26\",\"2019-06-02\",\"2019-06-09\",\"2019-06-16\",\"2019-06-23\",\"2019-06-30\",\"2019-07-07\",\"2019-07-14\",\"2019-07-21\",\"2019-07-28\",\"2019-08-04\",\"2019-08-11\",\"2019-08-18\",\"2019-08-25\",\"2019-09-01\",\"2019-09-08\",\"2019-09-15\",\"2019-09-22\",\"2019-09-29\",\"2019-10-06\",\"2019-10-13\",\"2019-10-20\",\"2019-10-27\",\"2019-11-03\",\"2019-11-10\",\"2019-11-17\",\"2019-11-24\",\"2019-12-01\",\"2019-12-08\",\"2019-12-15\",\"2019-12-22\",\"2019-12-29\",\"2020-01-05\",\"2020-01-12\",\"2020-01-19\",\"2020-01-26\",\"2020-02-02\",\"2020-02-09\",\"2020-02-16\",\"2020-02-23\",\"2020-03-01\",\"2020-03-08\",\"2020-03-15\",\"2020-03-22\",\"2020-03-29\",\"2020-04-05\",\"2020-04-12\",\"2020-04-19\",\"2020-04-26\",\"2020-05-03\",\"2020-05-10\",\"2020-05-17\",\"2020-05-24\",\"2020-05-31\",\"2020-06-07\",\"2020-06-14\",\"2020-06-21\",\"2020-06-28\",\"2020-07-05\",\"2020-07-12\",\"2020-07-19\",\"2020-07-26\",\"2020-08-02\",\"2020-08-09\",\"2020-08-16\",\"2020-08-23\",\"2020-08-30\",\"2020-09-06\",\"2020-09-13\",\"2020-09-20\",\"2020-09-27\",\"2020-10-04\",\"2020-10-11\",\"2020-10-18\",\"2020-10-25\",\"2020-11-01\",\"2020-11-08\",\"2020-11-15\",\"2020-11-22\",\"2020-11-29\",\"2020-12-06\",\"2020-12-13\",\"2020-12-20\",\"2020-12-27\",\"2021-01-03\",\"2021-01-10\",\"2021-01-17\",\"2021-01-24\",\"2021-01-31\",\"2021-02-07\",\"2021-02-14\",\"2021-02-21\",\"2021-02-28\",\"2021-03-07\",\"2021-03-14\",\"2021-03-21\",\"2021-03-28\",\"2021-04-04\",\"2021-04-11\",\"2021-04-18\",\"2021-04-25\",\"2021-05-02\",\"2021-05-09\",\"2021-05-16\",\"2021-05-23\",\"2021-05-30\",\"2021-06-06\",\"2021-06-13\",\"2021-06-20\",\"2021-06-27\",\"2021-07-04\",\"2021-07-11\",\"2021-07-18\",\"2021-07-25\",\"2021-08-01\",\"2021-08-08\",\"2021-08-15\",\"2021-08-22\",\"2021-08-29\",\"2021-09-05\",\"2021-09-12\",\"2021-09-19\",\"2021-09-26\",\"2021-10-03\",\"2021-10-10\",\"2021-10-17\",\"2021-10-24\",\"2021-10-31\",\"2021-11-07\",\"2021-11-14\",\"2021-11-21\",\"2021-11-28\",\"2021-12-05\",\"2021-12-12\",\"2021-12-19\",\"2021-12-26\"],\"xaxis\":\"x\",\"y\":[10,10,11,10,12,12,12,11,13,14,17,18,22,27,29,35,39,42,48,43,45,40,37,31,30,24,23,20,19,18,14,14,13,12,10,12,11,11,11,11,10,10,9,10,10,13,11,11,9,9,9,11,10,10,12,10,12,13,12,15,13,13,15,15,19,29,44,62,79,93,99,99,100,85,73,61,53,43,39,32,28,25,20,18,16,17,15,14,15,14,12,13,12,12,12,12,12,12,14,12,12,11,12,12,12,13,13,14,13,15,14,16,20,19,25,29,34,39,46,49,55,68,81,83,88,89,80,74,56,50,39,31,26,21,17,18,15,16,14,13,14,13,13,14,12,13,11,10,12,12,13,12,13,12,12,10],\"yaxis\":\"y\",\"type\":\"scatter\"}],                        {\"template\":{\"data\":{\"histogram2dcontour\":[{\"type\":\"histogram2dcontour\",\"colorbar\":{\"outlinewidth\":0,\"ticks\":\"\"},\"colorscale\":[[0.0,\"#0d0887\"],[0.1111111111111111,\"#46039f\"],[0.2222222222222222,\"#7201a8\"],[0.3333333333333333,\"#9c179e\"],[0.4444444444444444,\"#bd3786\"],[0.5555555555555556,\"#d8576b\"],[0.6666666666666666,\"#ed7953\"],[0.7777777777777778,\"#fb9f3a\"],[0.8888888888888888,\"#fdca26\"],[1.0,\"#f0f921\"]]}],\"choropleth\":[{\"type\":\"choropleth\",\"colorbar\":{\"outlinewidth\":0,\"ticks\":\"\"}}],\"histogram2d\":[{\"type\":\"histogram2d\",\"colorbar\":{\"outlinewidth\":0,\"ticks\":\"\"},\"colorscale\":[[0.0,\"#0d0887\"],[0.1111111111111111,\"#46039f\"],[0.2222222222222222,\"#7201a8\"],[0.3333333333333333,\"#9c179e\"],[0.4444444444444444,\"#bd3786\"],[0.5555555555555556,\"#d8576b\"],[0.6666666666666666,\"#ed7953\"],[0.7777777777777778,\"#fb9f3a\"],[0.8888888888888888,\"#fdca26\"],[1.0,\"#f0f921\"]]}],\"heatmap\":[{\"type\":\"heatmap\",\"colorbar\":{\"outlinewidth\":0,\"ticks\":\"\"},\"colorscale\":[[0.0,\"#0d0887\"],[0.1111111111111111,\"#46039f\"],[0.2222222222222222,\"#7201a8\"],[0.3333333333333333,\"#9c179e\"],[0.4444444444444444,\"#bd3786\"],[0.5555555555555556,\"#d8576b\"],[0.6666666666666666,\"#ed7953\"],[0.7777777777777778,\"#fb9f3a\"],[0.8888888888888888,\"#fdca26\"],[1.0,\"#f0f921\"]]}],\"heatmapgl\":[{\"type\":\"heatmapgl\",\"colorbar\":{\"outlinewidth\":0,\"ticks\":\"\"},\"colorscale\":[[0.0,\"#0d0887\"],[0.1111111111111111,\"#46039f\"],[0.2222222222222222,\"#7201a8\"],[0.3333333333333333,\"#9c179e\"],[0.4444444444444444,\"#bd3786\"],[0.5555555555555556,\"#d8576b\"],[0.6666666666666666,\"#ed7953\"],[0.7777777777777778,\"#fb9f3a\"],[0.8888888888888888,\"#fdca26\"],[1.0,\"#f0f921\"]]}],\"contourcarpet\":[{\"type\":\"contourcarpet\",\"colorbar\":{\"outlinewidth\":0,\"ticks\":\"\"}}],\"contour\":[{\"type\":\"contour\",\"colorbar\":{\"outlinewidth\":0,\"ticks\":\"\"},\"colorscale\":[[0.0,\"#0d0887\"],[0.1111111111111111,\"#46039f\"],[0.2222222222222222,\"#7201a8\"],[0.3333333333333333,\"#9c179e\"],[0.4444444444444444,\"#bd3786\"],[0.5555555555555556,\"#d8576b\"],[0.6666666666666666,\"#ed7953\"],[0.7777777777777778,\"#fb9f3a\"],[0.8888888888888888,\"#fdca26\"],[1.0,\"#f0f921\"]]}],\"surface\":[{\"type\":\"surface\",\"colorbar\":{\"outlinewidth\":0,\"ticks\":\"\"},\"colorscale\":[[0.0,\"#0d0887\"],[0.1111111111111111,\"#46039f\"],[0.2222222222222222,\"#7201a8\"],[0.3333333333333333,\"#9c179e\"],[0.4444444444444444,\"#bd3786\"],[0.5555555555555556,\"#d8576b\"],[0.6666666666666666,\"#ed7953\"],[0.7777777777777778,\"#fb9f3a\"],[0.8888888888888888,\"#fdca26\"],[1.0,\"#f0f921\"]]}],\"mesh3d\":[{\"type\":\"mesh3d\",\"colorbar\":{\"outlinewidth\":0,\"ticks\":\"\"}}],\"scatter\":[{\"fillpattern\":{\"fillmode\":\"overlay\",\"size\":10,\"solidity\":0.2},\"type\":\"scatter\"}],\"parcoords\":[{\"type\":\"parcoords\",\"line\":{\"colorbar\":{\"outlinewidth\":0,\"ticks\":\"\"}}}],\"scatterpolargl\":[{\"type\":\"scatterpolargl\",\"marker\":{\"colorbar\":{\"outlinewidth\":0,\"ticks\":\"\"}}}],\"bar\":[{\"error_x\":{\"color\":\"#2a3f5f\"},\"error_y\":{\"color\":\"#2a3f5f\"},\"marker\":{\"line\":{\"color\":\"#E5ECF6\",\"width\":0.5},\"pattern\":{\"fillmode\":\"overlay\",\"size\":10,\"solidity\":0.2}},\"type\":\"bar\"}],\"scattergeo\":[{\"type\":\"scattergeo\",\"marker\":{\"colorbar\":{\"outlinewidth\":0,\"ticks\":\"\"}}}],\"scatterpolar\":[{\"type\":\"scatterpolar\",\"marker\":{\"colorbar\":{\"outlinewidth\":0,\"ticks\":\"\"}}}],\"histogram\":[{\"marker\":{\"pattern\":{\"fillmode\":\"overlay\",\"size\":10,\"solidity\":0.2}},\"type\":\"histogram\"}],\"scattergl\":[{\"type\":\"scattergl\",\"marker\":{\"colorbar\":{\"outlinewidth\":0,\"ticks\":\"\"}}}],\"scatter3d\":[{\"type\":\"scatter3d\",\"line\":{\"colorbar\":{\"outlinewidth\":0,\"ticks\":\"\"}},\"marker\":{\"colorbar\":{\"outlinewidth\":0,\"ticks\":\"\"}}}],\"scattermapbox\":[{\"type\":\"scattermapbox\",\"marker\":{\"colorbar\":{\"outlinewidth\":0,\"ticks\":\"\"}}}],\"scatterternary\":[{\"type\":\"scatterternary\",\"marker\":{\"colorbar\":{\"outlinewidth\":0,\"ticks\":\"\"}}}],\"scattercarpet\":[{\"type\":\"scattercarpet\",\"marker\":{\"colorbar\":{\"outlinewidth\":0,\"ticks\":\"\"}}}],\"carpet\":[{\"aaxis\":{\"endlinecolor\":\"#2a3f5f\",\"gridcolor\":\"white\",\"linecolor\":\"white\",\"minorgridcolor\":\"white\",\"startlinecolor\":\"#2a3f5f\"},\"baxis\":{\"endlinecolor\":\"#2a3f5f\",\"gridcolor\":\"white\",\"linecolor\":\"white\",\"minorgridcolor\":\"white\",\"startlinecolor\":\"#2a3f5f\"},\"type\":\"carpet\"}],\"table\":[{\"cells\":{\"fill\":{\"color\":\"#EBF0F8\"},\"line\":{\"color\":\"white\"}},\"header\":{\"fill\":{\"color\":\"#C8D4E3\"},\"line\":{\"color\":\"white\"}},\"type\":\"table\"}],\"barpolar\":[{\"marker\":{\"line\":{\"color\":\"#E5ECF6\",\"width\":0.5},\"pattern\":{\"fillmode\":\"overlay\",\"size\":10,\"solidity\":0.2}},\"type\":\"barpolar\"}],\"pie\":[{\"automargin\":true,\"type\":\"pie\"}]},\"layout\":{\"autotypenumbers\":\"strict\",\"colorway\":[\"#636efa\",\"#EF553B\",\"#00cc96\",\"#ab63fa\",\"#FFA15A\",\"#19d3f3\",\"#FF6692\",\"#B6E880\",\"#FF97FF\",\"#FECB52\"],\"font\":{\"color\":\"#2a3f5f\"},\"hovermode\":\"closest\",\"hoverlabel\":{\"align\":\"left\"},\"paper_bgcolor\":\"white\",\"plot_bgcolor\":\"#E5ECF6\",\"polar\":{\"bgcolor\":\"#E5ECF6\",\"angularaxis\":{\"gridcolor\":\"white\",\"linecolor\":\"white\",\"ticks\":\"\"},\"radialaxis\":{\"gridcolor\":\"white\",\"linecolor\":\"white\",\"ticks\":\"\"}},\"ternary\":{\"bgcolor\":\"#E5ECF6\",\"aaxis\":{\"gridcolor\":\"white\",\"linecolor\":\"white\",\"ticks\":\"\"},\"baxis\":{\"gridcolor\":\"white\",\"linecolor\":\"white\",\"ticks\":\"\"},\"caxis\":{\"gridcolor\":\"white\",\"linecolor\":\"white\",\"ticks\":\"\"}},\"coloraxis\":{\"colorbar\":{\"outlinewidth\":0,\"ticks\":\"\"}},\"colorscale\":{\"sequential\":[[0.0,\"#0d0887\"],[0.1111111111111111,\"#46039f\"],[0.2222222222222222,\"#7201a8\"],[0.3333333333333333,\"#9c179e\"],[0.4444444444444444,\"#bd3786\"],[0.5555555555555556,\"#d8576b\"],[0.6666666666666666,\"#ed7953\"],[0.7777777777777778,\"#fb9f3a\"],[0.8888888888888888,\"#fdca26\"],[1.0,\"#f0f921\"]],\"sequentialminus\":[[0.0,\"#0d0887\"],[0.1111111111111111,\"#46039f\"],[0.2222222222222222,\"#7201a8\"],[0.3333333333333333,\"#9c179e\"],[0.4444444444444444,\"#bd3786\"],[0.5555555555555556,\"#d8576b\"],[0.6666666666666666,\"#ed7953\"],[0.7777777777777778,\"#fb9f3a\"],[0.8888888888888888,\"#fdca26\"],[1.0,\"#f0f921\"]],\"diverging\":[[0,\"#8e0152\"],[0.1,\"#c51b7d\"],[0.2,\"#de77ae\"],[0.3,\"#f1b6da\"],[0.4,\"#fde0ef\"],[0.5,\"#f7f7f7\"],[0.6,\"#e6f5d0\"],[0.7,\"#b8e186\"],[0.8,\"#7fbc41\"],[0.9,\"#4d9221\"],[1,\"#276419\"]]},\"xaxis\":{\"gridcolor\":\"white\",\"linecolor\":\"white\",\"ticks\":\"\",\"title\":{\"standoff\":15},\"zerolinecolor\":\"white\",\"automargin\":true,\"zerolinewidth\":2},\"yaxis\":{\"gridcolor\":\"white\",\"linecolor\":\"white\",\"ticks\":\"\",\"title\":{\"standoff\":15},\"zerolinecolor\":\"white\",\"automargin\":true,\"zerolinewidth\":2},\"scene\":{\"xaxis\":{\"backgroundcolor\":\"#E5ECF6\",\"gridcolor\":\"white\",\"linecolor\":\"white\",\"showbackground\":true,\"ticks\":\"\",\"zerolinecolor\":\"white\",\"gridwidth\":2},\"yaxis\":{\"backgroundcolor\":\"#E5ECF6\",\"gridcolor\":\"white\",\"linecolor\":\"white\",\"showbackground\":true,\"ticks\":\"\",\"zerolinecolor\":\"white\",\"gridwidth\":2},\"zaxis\":{\"backgroundcolor\":\"#E5ECF6\",\"gridcolor\":\"white\",\"linecolor\":\"white\",\"showbackground\":true,\"ticks\":\"\",\"zerolinecolor\":\"white\",\"gridwidth\":2}},\"shapedefaults\":{\"line\":{\"color\":\"#2a3f5f\"}},\"annotationdefaults\":{\"arrowcolor\":\"#2a3f5f\",\"arrowhead\":0,\"arrowwidth\":1},\"geo\":{\"bgcolor\":\"white\",\"landcolor\":\"#E5ECF6\",\"subunitcolor\":\"white\",\"showland\":true,\"showlakes\":true,\"lakecolor\":\"white\"},\"title\":{\"x\":0.05},\"mapbox\":{\"style\":\"light\"}}},\"xaxis\":{\"anchor\":\"y\",\"domain\":[0.0,1.0],\"title\":{\"text\":\"Timeline\"}},\"yaxis\":{\"anchor\":\"x\",\"domain\":[0.0,1.0],\"title\":{\"text\":\"Interest Over Time\"}},\"legend\":{\"tracegroupgap\":0},\"margin\":{\"t\":50,\"r\":50,\"b\":50,\"l\":50},\"height\":400,\"title\":{\"text\":\"Mango Trend\",\"x\":0.5,\"y\":0.95}},                        {\"responsive\": true}                    ).then(function(){\n",
       "                            \n",
       "var gd = document.getElementById('75995140-61db-4a9f-9d6e-e82432a54446');\n",
       "var x = new MutationObserver(function (mutations, observer) {{\n",
       "        var display = window.getComputedStyle(gd).display;\n",
       "        if (!display || display === 'none') {{\n",
       "            console.log([gd, 'removed!']);\n",
       "            Plotly.purge(gd);\n",
       "            observer.disconnect();\n",
       "        }}\n",
       "}});\n",
       "\n",
       "// Listen for the removal of the full notebook cells\n",
       "var notebookContainer = gd.closest('#notebook-container');\n",
       "if (notebookContainer) {{\n",
       "    x.observe(notebookContainer, {childList: true});\n",
       "}}\n",
       "\n",
       "// Listen for the clearing of the current output cell\n",
       "var outputEl = gd.closest('.output');\n",
       "if (outputEl) {{\n",
       "    x.observe(outputEl, {childList: true});\n",
       "}}\n",
       "\n",
       "                        })                };                });            </script>        </div>"
      ]
     },
     "metadata": {},
     "output_type": "display_data"
    }
   ],
   "source": [
    "# Mango timeline\n",
    "fig = px.line(mango_df, x='Week', y='mango: (India)', labels={\n",
    "                     \"Week\": \"Timeline\",\n",
    "                     \"mango: (India)\": \"Interest Over Time\"\n",
    "                 }, height=400)\n",
    "fig.update_layout(margin = {\n",
    "    \"r\": 50,\n",
    "    \"b\": 50,\n",
    "    \"t\": 50,\n",
    "    \"l\": 50\n",
    "})\n",
    "fig.update_layout(title = {\n",
    "    \"text\": \"Mango Trend\",\n",
    "    \"x\": 0.5,\n",
    "    \"y\": 0.95\n",
    "})\n",
    "fig.show()"
   ]
  },
  {
   "cell_type": "markdown",
   "metadata": {},
   "source": [
    "From this graph, we observe that the interest in mangoes is significantly higher in the months of May-June, which is the peak mango season."
   ]
  },
  {
   "cell_type": "markdown",
   "metadata": {},
   "source": [
    "## Notable Examples\n",
    "\n",
    "This data also shows if the food item was popular for a reason other than seasons and festivals. Some notable examples are shown below:\n"
   ]
  },
  {
   "cell_type": "markdown",
   "metadata": {},
   "source": [
    "### Dragon Fruit, January 2021"
   ]
  },
  {
   "cell_type": "code",
   "execution_count": 3,
   "metadata": {},
   "outputs": [],
   "source": [
    "# Timeline"
   ]
  },
  {
   "cell_type": "markdown",
   "metadata": {},
   "source": [
    "Search data of dragon fruit in India shows a distinctive peak in January 2021. This peak was due to the renaming of dragon fruit to 'kamalam' by the Gujarat Government. The distinctive shape and colour of the dragon fruit makes it look similar to a lotus, which is called kamal in Hindi. This was statewide news, and we're guessing that this made people search for dragon fruit. (<a href=\"https://krishijagran.com/blog/dragon-fruit-a-boon-for-farmers-in-kachchh/#:~:text=Dragon%20fruit%20(renamed%20kamalam%20by,%2C%20Telangana%2C%20and%20Tamil%20Nadu.\">source</a>)"
   ]
  },
  {
   "cell_type": "markdown",
   "metadata": {},
   "source": [
    "### Chocolate, Feb 14"
   ]
  },
  {
   "cell_type": "code",
   "execution_count": 4,
   "metadata": {},
   "outputs": [],
   "source": [
    "# Timeline"
   ]
  },
  {
   "cell_type": "markdown",
   "metadata": {},
   "source": [
    "This one is a very cute example of how festivals also have an impact. Chocolate peaks exclusively in the second week of February across all years. This is when Valentine's Day is celebrated, and is the most contributing factor to chocolate popularity in February."
   ]
  },
  {
   "cell_type": "markdown",
   "metadata": {},
   "source": [
    "### Dalgona Candy, September 2021"
   ]
  },
  {
   "cell_type": "code",
   "execution_count": 5,
   "metadata": {},
   "outputs": [],
   "source": [
    "# Timeline"
   ]
  },
  {
   "cell_type": "markdown",
   "metadata": {},
   "source": [
    "Another interesting example is where we can see a spike in the searches for Dalgona Candy during September 2021 when the Korean drama series Squid Game was released. One of the challenges in it included cutting the Dalgona Candy without breaking it in a fixed time. So, it became famous after the series was a success."
   ]
  },
  {
   "cell_type": "markdown",
   "metadata": {},
   "source": [
    "### Undhiyu, January 14"
   ]
  },
  {
   "cell_type": "code",
   "execution_count": 6,
   "metadata": {},
   "outputs": [],
   "source": [
    "# Timeline"
   ]
  },
  {
   "cell_type": "markdown",
   "metadata": {},
   "source": [
    "Undhiyu is a seasonal Gujrathi dish made in the winter. It is made of many winter vegetables and is being cooked in almost every household in Gujarat during Makarsankranti (January 14) which resembles the peaks in the graph."
   ]
  },
  {
   "cell_type": "markdown",
   "metadata": {},
   "source": [
    "### Haleem, Ramadan Month"
   ]
  },
  {
   "cell_type": "code",
   "execution_count": 7,
   "metadata": {},
   "outputs": [],
   "source": [
    "# Timeline"
   ]
  },
  {
   "cell_type": "markdown",
   "metadata": {},
   "source": [
    "Haleem is a dish that is mainly prepared during the Ramadan month of the Muslim Hijri calendar in Hyderabad, Telangana in India. It has a significant cultural history among Muslims and is very famous in the Middle East, and the Indian subcontinent. As we can see in the plot above the spikes align with the Ramadan months of those years. Haleem originated from Harees which was introduced to the Hyderabad Nizam’s army by Arab soldiers, which over time changed to Haleem. Haleem from Hyderabad is transported all over the country."
   ]
  },
  {
   "cell_type": "markdown",
   "metadata": {},
   "source": [
    "## The Effect of COVID"
   ]
  },
  {
   "cell_type": "markdown",
   "metadata": {},
   "source": [
    "A search term not completely unrelated to food, 'homemade' had a ginormous peak in April-May of 2020, when the first lockdown  due to COVID was initiated:"
   ]
  },
  {
   "cell_type": "code",
   "execution_count": 8,
   "metadata": {},
   "outputs": [],
   "source": [
    "# Timeline"
   ]
  },
  {
   "cell_type": "markdown",
   "metadata": {},
   "source": [
    "This corresponds, with much likelihood, to the fact that people were now looking for recipes of their favourite foods that they can make at home, since restaurants and hotels had to be closed down."
   ]
  },
  {
   "cell_type": "code",
   "execution_count": 9,
   "metadata": {},
   "outputs": [],
   "source": [
    "# Graph"
   ]
  },
  {
   "cell_type": "markdown",
   "metadata": {},
   "source": [
    "Similarly, we figured, with a worldwide pandemic affecting our daily lives, it must have also affected the food in our daily lives. With this data, we plan to also gain some insight as to how COVID affected food searches. Will it be more than usual or less? And why?\n",
    "We decided to make a slope chart of all the items in our dataset, grouped by categories."
   ]
  },
  {
   "cell_type": "code",
   "execution_count": 10,
   "metadata": {},
   "outputs": [],
   "source": [
    "# Slope Chart"
   ]
  },
  {
   "cell_type": "markdown",
   "metadata": {},
   "source": [
    "In the first 1-2 months of the COVID outbreak in India, when there was a lockdown all over the country there was a spike in the number of searches for the recipes of many food items which aren’t typically made at home. Food items like momos, jalebi, dhokla, panipuri, samosa, and cake were not available outside and people stuck in their homes were interested in making them to satisfy their taste buds. As we can see in the plot above there is a spike in all of the food items in April 2020. Then as local shops opened and people became negligent in the later COVID waves we can infer that people didn’t need to search for recipes online."
   ]
  },
  {
   "cell_type": "markdown",
   "metadata": {},
   "source": [
    "[![Repo](https://img.shields.io/badge/GitHub-<repo_name>-brightgreen)](https://github.com/<repo_user>/<repo_name>)"
   ]
  },
  {
   "cell_type": "markdown",
   "metadata": {},
   "source": [
    "## Conclusion"
   ]
  },
  {
   "cell_type": "markdown",
   "metadata": {},
   "source": []
  }
 ],
 "metadata": {
  "interpreter": {
   "hash": "63fd5069d213b44bf678585dea6b12cceca9941eaf7f819626cde1f2670de90d"
  },
  "kernelspec": {
   "display_name": "Python 3.9.6 64-bit",
   "language": "python",
   "name": "python3"
  },
  "language_info": {
   "codemirror_mode": {
    "name": "ipython",
    "version": 3
   },
   "file_extension": ".py",
   "mimetype": "text/x-python",
   "name": "python",
   "nbconvert_exporter": "python",
   "pygments_lexer": "ipython3",
   "version": "3.9.6"
  },
  "orig_nbformat": 4
 },
 "nbformat": 4,
 "nbformat_minor": 2
}
