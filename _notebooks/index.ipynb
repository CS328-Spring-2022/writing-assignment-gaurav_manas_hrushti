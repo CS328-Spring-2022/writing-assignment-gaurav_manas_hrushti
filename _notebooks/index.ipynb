{
 "cells": [
  {
   "cell_type": "markdown",
   "metadata": {},
   "source": [
    "<h1><center>Food Trends Analysis in India</center></h1>\n",
    "<h4><center>\n",
    "<a style=\"text-decoration:none\" href=\"https://github.com/GauravViramgami/\">Gaurav Viramgami</a>, IIT Gandhinagar, <a style=\"text-decoration:none\" href=\"mailto:viramgami.g@iitgn.ac.in\">viramgami.g@iitgn.ac.in</a>\n",
    "<br><br>\n",
    "<a style=\"text-decoration:none\" href=\"https://github.com/Hrushti/\">Hrushti Naik</a>, IIT Gandhinagar, <a style=\"text-decoration:none\" href=\"mailto:hrushti.n@iitgn.ac.in\">hrushti.n@iitgn.ac.in</a>\n",
    "<br><br>\n",
    "<a style=\"text-decoration:none\" href=\"https://github.com/ManasMulpuri/\">Manas Mulpuri</a>, IIT Gandhinagar, <a style=\"text-decoration:none\" href=\"mailto:mulpuri.m@iitgn.ac.in\">mulpuri.m@iitgn.ac.in</a>\n",
    "</center></h4>"
   ]
  },
  {
   "cell_type": "markdown",
   "metadata": {},
   "source": [
    "[![Repo](https://img.shields.io/badge/GitHub-<repo_name>-brightgreen)](https://github.com/<repo_user>/<repo_name>)"
   ]
  },
  {
   "cell_type": "markdown",
   "metadata": {},
   "source": [
    "Introduction\n",
    "- General Introduction\n",
    "- Examples (Onion, Dragon Fruit, Coffee etc.) with few charts and images\n",
    "- About Dataset and preprocessing (Baseline food item)"
   ]
  },
  {
   "cell_type": "markdown",
   "metadata": {},
   "source": [
    "Data Visualizations + Conclusions\n",
    "- 3 Year search data for 2-3 items per category with explanations for abnormal data (with slider/dropdown for other items) - circular charts\n",
    "- Covid effect - slope charts - all items\n",
    "- Region wise (if words km pde)\n",
    "- Concluding Paragraph"
   ]
  },
  {
   "cell_type": "markdown",
   "metadata": {},
   "source": []
  }
 ],
 "metadata": {
  "language_info": {
   "name": "python"
  },
  "orig_nbformat": 4
 },
 "nbformat": 4,
 "nbformat_minor": 2
}
